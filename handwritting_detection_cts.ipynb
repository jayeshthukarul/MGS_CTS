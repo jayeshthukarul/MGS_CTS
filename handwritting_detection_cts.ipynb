{
 "cells": [
  {
   "cell_type": "markdown",
   "id": "a1c838c4",
   "metadata": {},
   "source": [
    "# comment \"from .html import *\" and \"from .reader import *\" from doctr.io.__init__.py"
   ]
  },
  {
   "cell_type": "code",
   "execution_count": 1,
   "id": "ffdcb35d",
   "metadata": {},
   "outputs": [],
   "source": [
    "import os\n",
    "\n",
    "# Let's pick the desired backend\n",
    "# os.environ['USE_TF'] = '1'\n",
    "\n",
    "import matplotlib.pyplot as plt\n",
    "import pandas as pd\n",
    "import math\n",
    "import cv2\n",
    "import warnings\n",
    "warnings.filterwarnings(\"ignore\")"
   ]
  },
  {
   "cell_type": "code",
   "execution_count": 4,
   "id": "b055d941",
   "metadata": {},
   "outputs": [],
   "source": [
    "os.environ['USE_TORCH'] = '1'"
   ]
  },
  {
   "cell_type": "code",
   "execution_count": 5,
   "id": "24dbe882",
   "metadata": {},
   "outputs": [],
   "source": [
    "from doctr.io import DocumentFile\n",
    "from doctr.models import ocr_predictor\n",
    "from doctr.models import detection_predictor\n",
    "from doctr.models import db_resnet50"
   ]
  },
  {
   "cell_type": "code",
   "execution_count": null,
   "id": "0a74cd89",
   "metadata": {},
   "outputs": [],
   "source": []
  },
  {
   "cell_type": "code",
   "execution_count": 6,
   "id": "67721569",
   "metadata": {},
   "outputs": [],
   "source": [
    "doc = DocumentFile.from_images(\"C:\\Jayesh\\Projects\\Cheque_OCR\\snipped_cheques\\cheque1.PNG\")"
   ]
  },
  {
   "cell_type": "code",
   "execution_count": 7,
   "id": "ccbaa711",
   "metadata": {},
   "outputs": [],
   "source": [
    "predictor = ocr_predictor(det_arch='db_resnet50',pretrained=True)"
   ]
  },
  {
   "cell_type": "code",
   "execution_count": 8,
   "id": "85744cce",
   "metadata": {},
   "outputs": [],
   "source": [
    "result = predictor(doc)"
   ]
  },
  {
   "cell_type": "code",
   "execution_count": 9,
   "id": "49738b20",
   "metadata": {},
   "outputs": [],
   "source": [
    "json_export = result.export()"
   ]
  },
  {
   "cell_type": "code",
   "execution_count": 10,
   "id": "b9734533",
   "metadata": {},
   "outputs": [],
   "source": [
    "#json_export"
   ]
  },
  {
   "cell_type": "code",
   "execution_count": 11,
   "id": "eceac123",
   "metadata": {
    "scrolled": true
   },
   "outputs": [],
   "source": [
    "#synthetic_pages = result.synthesize()"
   ]
  },
  {
   "cell_type": "code",
   "execution_count": 12,
   "id": "30378688",
   "metadata": {},
   "outputs": [],
   "source": [
    "outer_list = []\n",
    "line_list = []\n",
    "for i in range(len(json_export['pages'])):\n",
    "    X = json_export['pages'][i]['dimensions'][1]\n",
    "    Y = json_export['pages'][i]['dimensions'][0]\n",
    "    for j in range(len(json_export['pages'][i]['blocks'])):\n",
    "        block = json_export['pages'][i]['blocks']\n",
    "        for k in range(len(block[j]['lines'])):\n",
    "            line = block[j]['lines'][k]\n",
    "            tmp_arr1 = []\n",
    "            tmp_arr1.append(math.floor(line['geometry'][0][0]*X))\n",
    "            tmp_arr1.append(math.floor(line['geometry'][0][1]*Y))\n",
    "            tmp_arr1.append(math.floor(line['geometry'][1][0]*X))\n",
    "            tmp_arr1.append(math.floor(line['geometry'][1][1]*Y))\n",
    "            line_list.append(tmp_arr1)\n",
    "            for l in range(len(block[j]['lines'][k]['words'])):\n",
    "                word = block[j]['lines'][k]['words'][l]\n",
    "                temp_arr = []\n",
    "                temp_arr.append(word['value'])\n",
    "                temp_arr.append(math.floor(word['geometry'][0][0]*X))\n",
    "                temp_arr.append(math.floor(word['geometry'][0][1]*Y))\n",
    "                temp_arr.append(math.floor(word['geometry'][1][0]*X))\n",
    "                temp_arr.append(math.floor(word['geometry'][1][1]*Y))\n",
    "                temp_arr.append(word['confidence'])\n",
    "                outer_list.append(temp_arr)\n",
    "                "
   ]
  },
  {
   "cell_type": "code",
   "execution_count": 13,
   "id": "11df841a",
   "metadata": {
    "scrolled": true
   },
   "outputs": [],
   "source": [
    "bb_df = pd.DataFrame(outer_list,columns=[\"word\",\"x1\",\"y1\",\"x2\",\"y2\",\"confidence\"])\n",
    "line_df = pd.DataFrame(line_list,columns=[\"x1\",\"y1\",\"x2\",\"y2\"])"
   ]
  },
  {
   "cell_type": "code",
   "execution_count": null,
   "id": "147508a3",
   "metadata": {},
   "outputs": [],
   "source": []
  },
  {
   "cell_type": "code",
   "execution_count": 17,
   "id": "31d0c40e",
   "metadata": {},
   "outputs": [],
   "source": [
    "image = cv2.imread(\"C:\\Jayesh\\Projects\\Cheque_OCR\\snipped_cheques\\cheque1.PNG\")"
   ]
  },
  {
   "cell_type": "code",
   "execution_count": 18,
   "id": "70fb17ad",
   "metadata": {},
   "outputs": [
    {
     "data": {
      "text/plain": [
       "(488, 1300, 3)"
      ]
     },
     "execution_count": 18,
     "metadata": {},
     "output_type": "execute_result"
    }
   ],
   "source": [
    "image.shape"
   ]
  },
  {
   "cell_type": "code",
   "execution_count": 107,
   "id": "ebb69b67",
   "metadata": {
    "scrolled": true
   },
   "outputs": [],
   "source": [
    "for x1,y1,x2,y2 in zip(line_df[\"x1\"],line_df[\"y1\"],line_df[\"x2\"],line_df[\"y2\"]):\n",
    "    #print(x1,y1,x2,y2)\n",
    "    cv2.rectangle(image, (x1, y1), (x2, y2), (255,0,0), 4)"
   ]
  },
  {
   "cell_type": "code",
   "execution_count": 82,
   "id": "2d65310c",
   "metadata": {
    "scrolled": true
   },
   "outputs": [],
   "source": [
    "for x1,y1,x2,y2 in zip(bb_df[\"x1\"],bb_df[\"y1\"],bb_df[\"x2\"],bb_df[\"y2\"]):\n",
    "    #print(x1,y1,x2,y2)\n",
    "    cv2.rectangle(image, (x1, y1), (x2, y2), (255,0,0), 4)"
   ]
  },
  {
   "cell_type": "code",
   "execution_count": null,
   "id": "7dcdfe14",
   "metadata": {},
   "outputs": [],
   "source": []
  },
  {
   "cell_type": "code",
   "execution_count": 65,
   "id": "3cff9d6e",
   "metadata": {},
   "outputs": [],
   "source": [
    "## image cropping: img[y:y+h,x:x+w]\n",
    "#cv2.imwrite('cropped_line.png', image)"
   ]
  },
  {
   "cell_type": "code",
   "execution_count": 66,
   "id": "c18a08bf",
   "metadata": {},
   "outputs": [],
   "source": [
    "#mage.shape"
   ]
  },
  {
   "cell_type": "code",
   "execution_count": 108,
   "id": "c88eaacf",
   "metadata": {},
   "outputs": [
    {
     "data": {
      "text/plain": [
       "True"
      ]
     },
     "execution_count": 108,
     "metadata": {},
     "output_type": "execute_result"
    }
   ],
   "source": [
    "cv2.imwrite('Bounding_Box_line.png', image)"
   ]
  },
  {
   "cell_type": "code",
   "execution_count": 17,
   "id": "509eb346",
   "metadata": {},
   "outputs": [],
   "source": [
    "#plt.imshow(image)"
   ]
  },
  {
   "cell_type": "code",
   "execution_count": 14,
   "id": "c1756fc3",
   "metadata": {},
   "outputs": [],
   "source": [
    "from transformers import TrOCRProcessor, VisionEncoderDecoderModel\n",
    "from PIL import Image\n",
    "import requests\n"
   ]
  },
  {
   "cell_type": "code",
   "execution_count": 15,
   "id": "285cc2f8",
   "metadata": {},
   "outputs": [
    {
     "name": "stderr",
     "output_type": "stream",
     "text": [
      "Some weights of VisionEncoderDecoderModel were not initialized from the model checkpoint at C:\\Jayesh\\Projects\\Cheque_OCR\\pretrained_models\\trocr_large_hadnwritten and are newly initialized: ['encoder.pooler.dense.weight', 'encoder.pooler.dense.bias']\n",
      "You should probably TRAIN this model on a down-stream task to be able to use it for predictions and inference.\n"
     ]
    }
   ],
   "source": [
    "processor = TrOCRProcessor.from_pretrained(r'C:\\Jayesh\\Projects\\Cheque_OCR\\pretrained_models\\trocr_large_hadnwritten')\n",
    "model = VisionEncoderDecoderModel.from_pretrained(r'C:\\Jayesh\\Projects\\Cheque_OCR\\pretrained_models\\trocr_large_hadnwritten')\n"
   ]
  },
  {
   "cell_type": "code",
   "execution_count": 29,
   "id": "b7ab8285",
   "metadata": {},
   "outputs": [],
   "source": [
    "\n",
    "# load image from the IAM database\n",
    "###url = 'https://fki.tic.heia-fr.ch/static/img/a01-122-02-00.jpg'\n",
    "###image = Image.open(requests.get(url, stream=True).raw).convert(\"RGB\")\n",
    "###\n",
    "###pixel_values = processor(images=image, return_tensors=\"pt\").pixel_values\n",
    "###\n",
    "###generated_ids = model.generate(pixel_values)\n",
    "###generated_text = processor.batch_decode(generated_ids, skip_special_tokens=True)[0]"
   ]
  },
  {
   "cell_type": "code",
   "execution_count": 19,
   "id": "eac716dc",
   "metadata": {},
   "outputs": [
    {
     "name": "stderr",
     "output_type": "stream",
     "text": [
      "The attention mask and the pad token id were not set. As a consequence, you may observe unexpected behavior. Please pass your input's `attention_mask` to obtain reliable results.\n",
      "Setting `pad_token_id` to `eos_token_id`:2 for open-end generation.\n",
      "The attention mask and the pad token id were not set. As a consequence, you may observe unexpected behavior. Please pass your input's `attention_mask` to obtain reliable results.\n",
      "Setting `pad_token_id` to `eos_token_id`:2 for open-end generation.\n"
     ]
    },
    {
     "name": "stdout",
     "output_type": "stream",
     "text": [
      "Mizuho\n"
     ]
    },
    {
     "name": "stderr",
     "output_type": "stream",
     "text": [
      "The attention mask and the pad token id were not set. As a consequence, you may observe unexpected behavior. Please pass your input's `attention_mask` to obtain reliable results.\n",
      "Setting `pad_token_id` to `eos_token_id`:2 for open-end generation.\n"
     ]
    },
    {
     "name": "stdout",
     "output_type": "stream",
     "text": [
      "Bank,\n"
     ]
    },
    {
     "name": "stderr",
     "output_type": "stream",
     "text": [
      "The attention mask and the pad token id were not set. As a consequence, you may observe unexpected behavior. Please pass your input's `attention_mask` to obtain reliable results.\n",
      "Setting `pad_token_id` to `eos_token_id`:2 for open-end generation.\n"
     ]
    },
    {
     "name": "stdout",
     "output_type": "stream",
     "text": [
      "Ltd.\n"
     ]
    },
    {
     "name": "stderr",
     "output_type": "stream",
     "text": [
      "The attention mask and the pad token id were not set. As a consequence, you may observe unexpected behavior. Please pass your input's `attention_mask` to obtain reliable results.\n",
      "Setting `pad_token_id` to `eos_token_id`:2 for open-end generation.\n"
     ]
    },
    {
     "name": "stdout",
     "output_type": "stream",
     "text": [
      "walio for 3 months :\n"
     ]
    },
    {
     "name": "stderr",
     "output_type": "stream",
     "text": [
      "The attention mask and the pad token id were not set. As a consequence, you may observe unexpected behavior. Please pass your input's `attention_mask` to obtain reliable results.\n",
      "Setting `pad_token_id` to `eos_token_id`:2 for open-end generation.\n"
     ]
    },
    {
     "name": "stdout",
     "output_type": "stream",
     "text": [
      "ifecount :\n"
     ]
    },
    {
     "name": "stderr",
     "output_type": "stream",
     "text": [
      "The attention mask and the pad token id were not set. As a consequence, you may observe unexpected behavior. Please pass your input's `attention_mask` to obtain reliable results.\n",
      "Setting `pad_token_id` to `eos_token_id`:2 for open-end generation.\n"
     ]
    },
    {
     "name": "stdout",
     "output_type": "stream",
     "text": [
      "THE I\n"
     ]
    },
    {
     "name": "stderr",
     "output_type": "stream",
     "text": [
      "The attention mask and the pad token id were not set. As a consequence, you may observe unexpected behavior. Please pass your input's `attention_mask` to obtain reliable results.\n",
      "Setting `pad_token_id` to `eos_token_id`:2 for open-end generation.\n"
     ]
    },
    {
     "name": "stdout",
     "output_type": "stream",
     "text": [
      "date.\n"
     ]
    },
    {
     "name": "stderr",
     "output_type": "stream",
     "text": [
      "The attention mask and the pad token id were not set. As a consequence, you may observe unexpected behavior. Please pass your input's `attention_mask` to obtain reliable results.\n",
      "Setting `pad_token_id` to `eos_token_id`:2 for open-end generation.\n"
     ]
    },
    {
     "name": "stdout",
     "output_type": "stream",
     "text": [
      "of 1\n"
     ]
    },
    {
     "name": "stderr",
     "output_type": "stream",
     "text": [
      "The attention mask and the pad token id were not set. As a consequence, you may observe unexpected behavior. Please pass your input's `attention_mask` to obtain reliable results.\n",
      "Setting `pad_token_id` to `eos_token_id`:2 for open-end generation.\n"
     ]
    },
    {
     "name": "stdout",
     "output_type": "stream",
     "text": [
      "issue.\n"
     ]
    },
    {
     "name": "stderr",
     "output_type": "stream",
     "text": [
      "The attention mask and the pad token id were not set. As a consequence, you may observe unexpected behavior. Please pass your input's `attention_mask` to obtain reliable results.\n",
      "Setting `pad_token_id` to `eos_token_id`:2 for open-end generation.\n"
     ]
    },
    {
     "name": "stdout",
     "output_type": "stream",
     "text": [
      "2 3.\n"
     ]
    },
    {
     "name": "stderr",
     "output_type": "stream",
     "text": [
      "The attention mask and the pad token id were not set. As a consequence, you may observe unexpected behavior. Please pass your input's `attention_mask` to obtain reliable results.\n",
      "Setting `pad_token_id` to `eos_token_id`:2 for open-end generation.\n"
     ]
    },
    {
     "name": "stdout",
     "output_type": "stream",
     "text": [
      "300-9-2-4 (2-2-2-\n"
     ]
    },
    {
     "name": "stderr",
     "output_type": "stream",
     "text": [
      "The attention mask and the pad token id were not set. As a consequence, you may observe unexpected behavior. Please pass your input's `attention_mask` to obtain reliable results.\n",
      "Setting `pad_token_id` to `eos_token_id`:2 for open-end generation.\n"
     ]
    },
    {
     "name": "stdout",
     "output_type": "stream",
     "text": [
      "mulipments.\n"
     ]
    },
    {
     "name": "stderr",
     "output_type": "stream",
     "text": [
      "The attention mask and the pad token id were not set. As a consequence, you may observe unexpected behavior. Please pass your input's `attention_mask` to obtain reliable results.\n",
      "Setting `pad_token_id` to `eos_token_id`:2 for open-end generation.\n"
     ]
    },
    {
     "name": "stdout",
     "output_type": "stream",
     "text": [
      "Fitzancch.\n"
     ]
    },
    {
     "name": "stderr",
     "output_type": "stream",
     "text": [
      "The attention mask and the pad token id were not set. As a consequence, you may observe unexpected behavior. Please pass your input's `attention_mask` to obtain reliable results.\n",
      "Setting `pad_token_id` to `eos_token_id`:2 for open-end generation.\n"
     ]
    },
    {
     "name": "stdout",
     "output_type": "stream",
     "text": [
      "L.E.WEFL\n"
     ]
    },
    {
     "name": "stderr",
     "output_type": "stream",
     "text": [
      "The attention mask and the pad token id were not set. As a consequence, you may observe unexpected behavior. Please pass your input's `attention_mask` to obtain reliable results.\n",
      "Setting `pad_token_id` to `eos_token_id`:2 for open-end generation.\n"
     ]
    },
    {
     "name": "stdout",
     "output_type": "stream",
     "text": [
      "17. Towefi-a. I\n"
     ]
    },
    {
     "name": "stderr",
     "output_type": "stream",
     "text": [
      "The attention mask and the pad token id were not set. As a consequence, you may observe unexpected behavior. Please pass your input's `attention_mask` to obtain reliable results.\n",
      "Setting `pad_token_id` to `eos_token_id`:2 for open-end generation.\n"
     ]
    },
    {
     "name": "stdout",
     "output_type": "stream",
     "text": [
      "a. Penainslike!\n"
     ]
    },
    {
     "name": "stderr",
     "output_type": "stream",
     "text": [
      "The attention mask and the pad token id were not set. As a consequence, you may observe unexpected behavior. Please pass your input's `attention_mask` to obtain reliable results.\n",
      "Setting `pad_token_id` to `eos_token_id`:2 for open-end generation.\n"
     ]
    },
    {
     "name": "stdout",
     "output_type": "stream",
     "text": [
      "a business park.\n"
     ]
    },
    {
     "name": "stderr",
     "output_type": "stream",
     "text": [
      "The attention mask and the pad token id were not set. As a consequence, you may observe unexpected behavior. Please pass your input's `attention_mask` to obtain reliable results.\n",
      "Setting `pad_token_id` to `eos_token_id`:2 for open-end generation.\n"
     ]
    },
    {
     "name": "stdout",
     "output_type": "stream",
     "text": [
      "semapati Bapati.\n"
     ]
    },
    {
     "name": "stderr",
     "output_type": "stream",
     "text": [
      "The attention mask and the pad token id were not set. As a consequence, you may observe unexpected behavior. Please pass your input's `attention_mask` to obtain reliable results.\n",
      "Setting `pad_token_id` to `eos_token_id`:2 for open-end generation.\n"
     ]
    },
    {
     "name": "stdout",
     "output_type": "stream",
     "text": [
      "Maling, Low-r.ir painful.\n"
     ]
    },
    {
     "name": "stderr",
     "output_type": "stream",
     "text": [
      "The attention mask and the pad token id were not set. As a consequence, you may observe unexpected behavior. Please pass your input's `attention_mask` to obtain reliable results.\n",
      "Setting `pad_token_id` to `eos_token_id`:2 for open-end generation.\n"
     ]
    },
    {
     "name": "stdout",
     "output_type": "stream",
     "text": [
      "Mumban-400013\n"
     ]
    },
    {
     "name": "stderr",
     "output_type": "stream",
     "text": [
      "The attention mask and the pad token id were not set. As a consequence, you may observe unexpected behavior. Please pass your input's `attention_mask` to obtain reliable results.\n",
      "Setting `pad_token_id` to `eos_token_id`:2 for open-end generation.\n"
     ]
    },
    {
     "name": "stdout",
     "output_type": "stream",
     "text": [
      "ifs.\n"
     ]
    },
    {
     "name": "stderr",
     "output_type": "stream",
     "text": [
      "The attention mask and the pad token id were not set. As a consequence, you may observe unexpected behavior. Please pass your input's `attention_mask` to obtain reliable results.\n",
      "Setting `pad_token_id` to `eos_token_id`:2 for open-end generation.\n"
     ]
    },
    {
     "name": "stdout",
     "output_type": "stream",
     "text": [
      "s code.\n"
     ]
    },
    {
     "name": "stderr",
     "output_type": "stream",
     "text": [
      "The attention mask and the pad token id were not set. As a consequence, you may observe unexpected behavior. Please pass your input's `attention_mask` to obtain reliable results.\n",
      "Setting `pad_token_id` to `eos_token_id`:2 for open-end generation.\n"
     ]
    },
    {
     "name": "stdout",
     "output_type": "stream",
     "text": [
      "mHCLE000532\n"
     ]
    },
    {
     "name": "stderr",
     "output_type": "stream",
     "text": [
      "The attention mask and the pad token id were not set. As a consequence, you may observe unexpected behavior. Please pass your input's `attention_mask` to obtain reliable results.\n",
      "Setting `pad_token_id` to `eos_token_id`:2 for open-end generation.\n"
     ]
    },
    {
     "name": "stdout",
     "output_type": "stream",
     "text": [
      "M.T.N.L.\n"
     ]
    },
    {
     "name": "stderr",
     "output_type": "stream",
     "text": [
      "The attention mask and the pad token id were not set. As a consequence, you may observe unexpected behavior. Please pass your input's `attention_mask` to obtain reliable results.\n",
      "Setting `pad_token_id` to `eos_token_id`:2 for open-end generation.\n"
     ]
    },
    {
     "name": "stdout",
     "output_type": "stream",
     "text": [
      "Mumbai.\n"
     ]
    },
    {
     "name": "stderr",
     "output_type": "stream",
     "text": [
      "The attention mask and the pad token id were not set. As a consequence, you may observe unexpected behavior. Please pass your input's `attention_mask` to obtain reliable results.\n",
      "Setting `pad_token_id` to `eos_token_id`:2 for open-end generation.\n"
     ]
    },
    {
     "name": "stdout",
     "output_type": "stream",
     "text": [
      "# All States set or?\n"
     ]
    },
    {
     "name": "stderr",
     "output_type": "stream",
     "text": [
      "The attention mask and the pad token id were not set. As a consequence, you may observe unexpected behavior. Please pass your input's `attention_mask` to obtain reliable results.\n",
      "Setting `pad_token_id` to `eos_token_id`:2 for open-end generation.\n"
     ]
    },
    {
     "name": "stdout",
     "output_type": "stream",
     "text": [
      "bearer.\n"
     ]
    },
    {
     "name": "stderr",
     "output_type": "stream",
     "text": [
      "The attention mask and the pad token id were not set. As a consequence, you may observe unexpected behavior. Please pass your input's `attention_mask` to obtain reliable results.\n",
      "Setting `pad_token_id` to `eos_token_id`:2 for open-end generation.\n"
     ]
    },
    {
     "name": "stdout",
     "output_type": "stream",
     "text": [
      "0.000\n"
     ]
    },
    {
     "name": "stderr",
     "output_type": "stream",
     "text": [
      "The attention mask and the pad token id were not set. As a consequence, you may observe unexpected behavior. Please pass your input's `attention_mask` to obtain reliable results.\n",
      "Setting `pad_token_id` to `eos_token_id`:2 for open-end generation.\n"
     ]
    },
    {
     "name": "stdout",
     "output_type": "stream",
     "text": [
      "11 #\n"
     ]
    },
    {
     "name": "stderr",
     "output_type": "stream",
     "text": [
      "The attention mask and the pad token id were not set. As a consequence, you may observe unexpected behavior. Please pass your input's `attention_mask` to obtain reliable results.\n",
      "Setting `pad_token_id` to `eos_token_id`:2 for open-end generation.\n"
     ]
    },
    {
     "name": "stdout",
     "output_type": "stream",
     "text": [
      "x numbers?\n"
     ]
    },
    {
     "name": "stderr",
     "output_type": "stream",
     "text": [
      "The attention mask and the pad token id were not set. As a consequence, you may observe unexpected behavior. Please pass your input's `attention_mask` to obtain reliable results.\n",
      "Setting `pad_token_id` to `eos_token_id`:2 for open-end generation.\n"
     ]
    },
    {
     "name": "stdout",
     "output_type": "stream",
     "text": [
      "s fruit. '\n"
     ]
    },
    {
     "name": "stderr",
     "output_type": "stream",
     "text": [
      "The attention mask and the pad token id were not set. As a consequence, you may observe unexpected behavior. Please pass your input's `attention_mask` to obtain reliable results.\n",
      "Setting `pad_token_id` to `eos_token_id`:2 for open-end generation.\n"
     ]
    },
    {
     "name": "stdout",
     "output_type": "stream",
     "text": [
      "# One.\n"
     ]
    },
    {
     "name": "stderr",
     "output_type": "stream",
     "text": [
      "The attention mask and the pad token id were not set. As a consequence, you may observe unexpected behavior. Please pass your input's `attention_mask` to obtain reliable results.\n",
      "Setting `pad_token_id` to `eos_token_id`:2 for open-end generation.\n"
     ]
    },
    {
     "name": "stdout",
     "output_type": "stream",
     "text": [
      "Thousand.\n"
     ]
    },
    {
     "name": "stderr",
     "output_type": "stream",
     "text": [
      "The attention mask and the pad token id were not set. As a consequence, you may observe unexpected behavior. Please pass your input's `attention_mask` to obtain reliable results.\n",
      "Setting `pad_token_id` to `eos_token_id`:2 for open-end generation.\n"
     ]
    },
    {
     "name": "stdout",
     "output_type": "stream",
     "text": [
      "Ninety.\n"
     ]
    },
    {
     "name": "stderr",
     "output_type": "stream",
     "text": [
      "The attention mask and the pad token id were not set. As a consequence, you may observe unexpected behavior. Please pass your input's `attention_mask` to obtain reliable results.\n",
      "Setting `pad_token_id` to `eos_token_id`:2 for open-end generation.\n"
     ]
    },
    {
     "name": "stdout",
     "output_type": "stream",
     "text": [
      "seven.\n"
     ]
    },
    {
     "name": "stderr",
     "output_type": "stream",
     "text": [
      "The attention mask and the pad token id were not set. As a consequence, you may observe unexpected behavior. Please pass your input's `attention_mask` to obtain reliable results.\n",
      "Setting `pad_token_id` to `eos_token_id`:2 for open-end generation.\n"
     ]
    },
    {
     "name": "stdout",
     "output_type": "stream",
     "text": [
      "only.\n"
     ]
    },
    {
     "name": "stderr",
     "output_type": "stream",
     "text": [
      "The attention mask and the pad token id were not set. As a consequence, you may observe unexpected behavior. Please pass your input's `attention_mask` to obtain reliable results.\n",
      "Setting `pad_token_id` to `eos_token_id`:2 for open-end generation.\n"
     ]
    },
    {
     "name": "stdout",
     "output_type": "stream",
     "text": [
      "0.\n"
     ]
    },
    {
     "name": "stderr",
     "output_type": "stream",
     "text": [
      "The attention mask and the pad token id were not set. As a consequence, you may observe unexpected behavior. Please pass your input's `attention_mask` to obtain reliable results.\n",
      "Setting `pad_token_id` to `eos_token_id`:2 for open-end generation.\n"
     ]
    },
    {
     "name": "stdout",
     "output_type": "stream",
     "text": [
      "8 10097-00\n"
     ]
    },
    {
     "name": "stderr",
     "output_type": "stream",
     "text": [
      "The attention mask and the pad token id were not set. As a consequence, you may observe unexpected behavior. Please pass your input's `attention_mask` to obtain reliable results.\n",
      "Setting `pad_token_id` to `eos_token_id`:2 for open-end generation.\n"
     ]
    },
    {
     "name": "stdout",
     "output_type": "stream",
     "text": [
      " ; Arc No. ).\n"
     ]
    },
    {
     "name": "stderr",
     "output_type": "stream",
     "text": [
      "The attention mask and the pad token id were not set. As a consequence, you may observe unexpected behavior. Please pass your input's `attention_mask` to obtain reliable results.\n",
      "Setting `pad_token_id` to `eos_token_id`:2 for open-end generation.\n"
     ]
    },
    {
     "name": "stdout",
     "output_type": "stream",
     "text": [
      "H10-792-101442\n"
     ]
    },
    {
     "name": "stderr",
     "output_type": "stream",
     "text": [
      "The attention mask and the pad token id were not set. As a consequence, you may observe unexpected behavior. Please pass your input's `attention_mask` to obtain reliable results.\n",
      "Setting `pad_token_id` to `eos_token_id`:2 for open-end generation.\n"
     ]
    },
    {
     "name": "stdout",
     "output_type": "stream",
     "text": [
      "Kenko Corporation-India\n"
     ]
    },
    {
     "name": "stderr",
     "output_type": "stream",
     "text": [
      "The attention mask and the pad token id were not set. As a consequence, you may observe unexpected behavior. Please pass your input's `attention_mask` to obtain reliable results.\n",
      "Setting `pad_token_id` to `eos_token_id`:2 for open-end generation.\n"
     ]
    },
    {
     "name": "stdout",
     "output_type": "stream",
     "text": [
      "Branch Office.\n"
     ]
    },
    {
     "name": "stderr",
     "output_type": "stream",
     "text": [
      "The attention mask and the pad token id were not set. As a consequence, you may observe unexpected behavior. Please pass your input's `attention_mask` to obtain reliable results.\n",
      "Setting `pad_token_id` to `eos_token_id`:2 for open-end generation.\n"
     ]
    },
    {
     "name": "stdout",
     "output_type": "stream",
     "text": [
      "of 5.\n"
     ]
    },
    {
     "name": "stderr",
     "output_type": "stream",
     "text": [
      "The attention mask and the pad token id were not set. As a consequence, you may observe unexpected behavior. Please pass your input's `attention_mask` to obtain reliable results.\n",
      "Setting `pad_token_id` to `eos_token_id`:2 for open-end generation.\n"
     ]
    },
    {
     "name": "stdout",
     "output_type": "stream",
     "text": [
      "authorised signatories.\n"
     ]
    },
    {
     "name": "stderr",
     "output_type": "stream",
     "text": [
      "The attention mask and the pad token id were not set. As a consequence, you may observe unexpected behavior. Please pass your input's `attention_mask` to obtain reliable results.\n",
      "Setting `pad_token_id` to `eos_token_id`:2 for open-end generation.\n"
     ]
    },
    {
     "name": "stdout",
     "output_type": "stream",
     "text": [
      "\" Chris\n"
     ]
    },
    {
     "name": "stderr",
     "output_type": "stream",
     "text": [
      "The attention mask and the pad token id were not set. As a consequence, you may observe unexpected behavior. Please pass your input's `attention_mask` to obtain reliable results.\n",
      "Setting `pad_token_id` to `eos_token_id`:2 for open-end generation.\n"
     ]
    },
    {
     "name": "stdout",
     "output_type": "stream",
     "text": [
      "100s draw.\n"
     ]
    },
    {
     "name": "stderr",
     "output_type": "stream",
     "text": [
      "The attention mask and the pad token id were not set. As a consequence, you may observe unexpected behavior. Please pass your input's `attention_mask` to obtain reliable results.\n",
      "Setting `pad_token_id` to `eos_token_id`:2 for open-end generation.\n"
     ]
    },
    {
     "name": "stdout",
     "output_type": "stream",
     "text": [
      "11\" 2 3 4.7.4. \"\n"
     ]
    },
    {
     "name": "stderr",
     "output_type": "stream",
     "text": [
      "The attention mask and the pad token id were not set. As a consequence, you may observe unexpected behavior. Please pass your input's `attention_mask` to obtain reliable results.\n",
      "Setting `pad_token_id` to `eos_token_id`:2 for open-end generation.\n"
     ]
    },
    {
     "name": "stdout",
     "output_type": "stream",
     "text": [
      "40069400 21 :\n"
     ]
    },
    {
     "name": "stderr",
     "output_type": "stream",
     "text": [
      "The attention mask and the pad token id were not set. As a consequence, you may observe unexpected behavior. Please pass your input's `attention_mask` to obtain reliable results.\n",
      "Setting `pad_token_id` to `eos_token_id`:2 for open-end generation.\n"
     ]
    },
    {
     "name": "stdout",
     "output_type": "stream",
     "text": [
      "10.44.\n",
      "2 1.\n"
     ]
    }
   ],
   "source": [
    "for x1,y1,x2,y2 in zip(bb_df[\"x1\"],bb_df[\"y1\"],bb_df[\"x2\"],bb_df[\"y2\"]):\n",
    "    img = image[y1:y2,x1:x2]\n",
    "    #cv2.imwrite('cropped.png', image)\n",
    "    pixel_values = processor(images=img, return_tensors=\"pt\").pixel_values\n",
    "    generated_ids = model.generate(pixel_values)\n",
    "    generated_text = processor.batch_decode(generated_ids, skip_special_tokens=True)[0]\n",
    "    print(generated_text)"
   ]
  },
  {
   "cell_type": "code",
   "execution_count": null,
   "id": "23600eb9",
   "metadata": {},
   "outputs": [],
   "source": []
  },
  {
   "cell_type": "code",
   "execution_count": null,
   "id": "e35ca8b2",
   "metadata": {},
   "outputs": [],
   "source": []
  },
  {
   "cell_type": "code",
   "execution_count": null,
   "id": "9341221a",
   "metadata": {},
   "outputs": [],
   "source": []
  },
  {
   "cell_type": "code",
   "execution_count": null,
   "id": "f359cbba",
   "metadata": {},
   "outputs": [],
   "source": []
  },
  {
   "cell_type": "code",
   "execution_count": 70,
   "id": "b8fd19be",
   "metadata": {},
   "outputs": [],
   "source": [
    "#model1 = db_resnet50(pretrained=True)"
   ]
  },
  {
   "cell_type": "code",
   "execution_count": 71,
   "id": "3d90717d",
   "metadata": {},
   "outputs": [],
   "source": [
    "#out1 = model1(doc)"
   ]
  },
  {
   "cell_type": "code",
   "execution_count": null,
   "id": "e6ca5609",
   "metadata": {},
   "outputs": [],
   "source": []
  },
  {
   "cell_type": "code",
   "execution_count": null,
   "id": "9e88b8cd",
   "metadata": {},
   "outputs": [],
   "source": []
  },
  {
   "cell_type": "code",
   "execution_count": null,
   "id": "6e110243",
   "metadata": {},
   "outputs": [],
   "source": []
  },
  {
   "cell_type": "code",
   "execution_count": 88,
   "id": "0d32d0b0",
   "metadata": {},
   "outputs": [],
   "source": [
    "import pytesseract\n",
    "from pytesseract import Output"
   ]
  },
  {
   "cell_type": "code",
   "execution_count": 85,
   "id": "510de6ca",
   "metadata": {},
   "outputs": [],
   "source": [
    "pytesseract.pytesseract.tesseract_cmd='C:\\\\Program Files (x86)\\\\Tesseract-OCR\\\\tesseract.exe'\n",
    "tessdata_dir_config = '--tessdata-dir \"C:\\\\Program Files (x86)\\\\Tesseract-OCR\\\\tessdata\"'"
   ]
  },
  {
   "cell_type": "code",
   "execution_count": 89,
   "id": "d3b93402",
   "metadata": {},
   "outputs": [],
   "source": [
    "result_tsr = pytesseract.image_to_data(Image.open('C:\\Jayesh\\Projects\\Cheque_OCR\\snipped_cheques\\cheque1.PNG'),config=tessdata_dir_config,output_type=Output.DICT)"
   ]
  },
  {
   "cell_type": "code",
   "execution_count": 94,
   "id": "63d8ba58",
   "metadata": {},
   "outputs": [],
   "source": [
    "result_tsr_df = pd.DataFrame(result_tsr)"
   ]
  },
  {
   "cell_type": "code",
   "execution_count": 96,
   "id": "70e5ea51",
   "metadata": {},
   "outputs": [],
   "source": [
    "final_df_tesseract = result_tsr_df[result_tsr_df['conf']!=-1]"
   ]
  },
  {
   "cell_type": "code",
   "execution_count": 97,
   "id": "c75e2de6",
   "metadata": {},
   "outputs": [
    {
     "data": {
      "text/html": [
       "<div>\n",
       "<style scoped>\n",
       "    .dataframe tbody tr th:only-of-type {\n",
       "        vertical-align: middle;\n",
       "    }\n",
       "\n",
       "    .dataframe tbody tr th {\n",
       "        vertical-align: top;\n",
       "    }\n",
       "\n",
       "    .dataframe thead th {\n",
       "        text-align: right;\n",
       "    }\n",
       "</style>\n",
       "<table border=\"1\" class=\"dataframe\">\n",
       "  <thead>\n",
       "    <tr style=\"text-align: right;\">\n",
       "      <th></th>\n",
       "      <th>level</th>\n",
       "      <th>page_num</th>\n",
       "      <th>block_num</th>\n",
       "      <th>par_num</th>\n",
       "      <th>line_num</th>\n",
       "      <th>word_num</th>\n",
       "      <th>left</th>\n",
       "      <th>top</th>\n",
       "      <th>width</th>\n",
       "      <th>height</th>\n",
       "      <th>conf</th>\n",
       "      <th>text</th>\n",
       "    </tr>\n",
       "  </thead>\n",
       "  <tbody>\n",
       "    <tr>\n",
       "      <th>4</th>\n",
       "      <td>5</td>\n",
       "      <td>1</td>\n",
       "      <td>1</td>\n",
       "      <td>1</td>\n",
       "      <td>1</td>\n",
       "      <td>1</td>\n",
       "      <td>0</td>\n",
       "      <td>369</td>\n",
       "      <td>8</td>\n",
       "      <td>48</td>\n",
       "      <td>95</td>\n",
       "      <td></td>\n",
       "    </tr>\n",
       "    <tr>\n",
       "      <th>8</th>\n",
       "      <td>5</td>\n",
       "      <td>1</td>\n",
       "      <td>2</td>\n",
       "      <td>1</td>\n",
       "      <td>1</td>\n",
       "      <td>1</td>\n",
       "      <td>0</td>\n",
       "      <td>0</td>\n",
       "      <td>58</td>\n",
       "      <td>18</td>\n",
       "      <td>95</td>\n",
       "      <td></td>\n",
       "    </tr>\n",
       "    <tr>\n",
       "      <th>12</th>\n",
       "      <td>5</td>\n",
       "      <td>1</td>\n",
       "      <td>3</td>\n",
       "      <td>1</td>\n",
       "      <td>1</td>\n",
       "      <td>1</td>\n",
       "      <td>236</td>\n",
       "      <td>3</td>\n",
       "      <td>158</td>\n",
       "      <td>36</td>\n",
       "      <td>62</td>\n",
       "      <td>Mizui‘xo</td>\n",
       "    </tr>\n",
       "    <tr>\n",
       "      <th>13</th>\n",
       "      <td>5</td>\n",
       "      <td>1</td>\n",
       "      <td>3</td>\n",
       "      <td>1</td>\n",
       "      <td>1</td>\n",
       "      <td>2</td>\n",
       "      <td>414</td>\n",
       "      <td>17</td>\n",
       "      <td>109</td>\n",
       "      <td>26</td>\n",
       "      <td>83</td>\n",
       "      <td>Bank,</td>\n",
       "    </tr>\n",
       "    <tr>\n",
       "      <th>14</th>\n",
       "      <td>5</td>\n",
       "      <td>1</td>\n",
       "      <td>3</td>\n",
       "      <td>1</td>\n",
       "      <td>1</td>\n",
       "      <td>3</td>\n",
       "      <td>543</td>\n",
       "      <td>17</td>\n",
       "      <td>65</td>\n",
       "      <td>22</td>\n",
       "      <td>82</td>\n",
       "      <td>Ltd</td>\n",
       "    </tr>\n",
       "    <tr>\n",
       "      <th>...</th>\n",
       "      <td>...</td>\n",
       "      <td>...</td>\n",
       "      <td>...</td>\n",
       "      <td>...</td>\n",
       "      <td>...</td>\n",
       "      <td>...</td>\n",
       "      <td>...</td>\n",
       "      <td>...</td>\n",
       "      <td>...</td>\n",
       "      <td>...</td>\n",
       "      <td>...</td>\n",
       "      <td>...</td>\n",
       "    </tr>\n",
       "    <tr>\n",
       "      <th>109</th>\n",
       "      <td>5</td>\n",
       "      <td>1</td>\n",
       "      <td>13</td>\n",
       "      <td>1</td>\n",
       "      <td>2</td>\n",
       "      <td>4</td>\n",
       "      <td>1112</td>\n",
       "      <td>353</td>\n",
       "      <td>77</td>\n",
       "      <td>11</td>\n",
       "      <td>72</td>\n",
       "      <td>ATOHIES</td>\n",
       "    </tr>\n",
       "    <tr>\n",
       "      <th>113</th>\n",
       "      <td>5</td>\n",
       "      <td>1</td>\n",
       "      <td>14</td>\n",
       "      <td>1</td>\n",
       "      <td>1</td>\n",
       "      <td>1</td>\n",
       "      <td>324</td>\n",
       "      <td>431</td>\n",
       "      <td>155</td>\n",
       "      <td>16</td>\n",
       "      <td>60</td>\n",
       "      <td>H'lihh'FBIF</td>\n",
       "    </tr>\n",
       "    <tr>\n",
       "      <th>114</th>\n",
       "      <td>5</td>\n",
       "      <td>1</td>\n",
       "      <td>14</td>\n",
       "      <td>1</td>\n",
       "      <td>1</td>\n",
       "      <td>2</td>\n",
       "      <td>506</td>\n",
       "      <td>431</td>\n",
       "      <td>192</td>\n",
       "      <td>16</td>\n",
       "      <td>57</td>\n",
       "      <td>LDDEQMDDEI:</td>\n",
       "    </tr>\n",
       "    <tr>\n",
       "      <th>115</th>\n",
       "      <td>5</td>\n",
       "      <td>1</td>\n",
       "      <td>14</td>\n",
       "      <td>1</td>\n",
       "      <td>1</td>\n",
       "      <td>3</td>\n",
       "      <td>730</td>\n",
       "      <td>431</td>\n",
       "      <td>126</td>\n",
       "      <td>16</td>\n",
       "      <td>59</td>\n",
       "      <td>LULI-ul‘EH'</td>\n",
       "    </tr>\n",
       "    <tr>\n",
       "      <th>116</th>\n",
       "      <td>5</td>\n",
       "      <td>1</td>\n",
       "      <td>14</td>\n",
       "      <td>1</td>\n",
       "      <td>1</td>\n",
       "      <td>4</td>\n",
       "      <td>888</td>\n",
       "      <td>431</td>\n",
       "      <td>28</td>\n",
       "      <td>16</td>\n",
       "      <td>69</td>\n",
       "      <td>Ll.</td>\n",
       "    </tr>\n",
       "  </tbody>\n",
       "</table>\n",
       "<p>70 rows × 12 columns</p>\n",
       "</div>"
      ],
      "text/plain": [
       "     level  page_num  block_num  par_num  line_num  word_num  left  top  \\\n",
       "4        5         1          1        1         1         1     0  369   \n",
       "8        5         1          2        1         1         1     0    0   \n",
       "12       5         1          3        1         1         1   236    3   \n",
       "13       5         1          3        1         1         2   414   17   \n",
       "14       5         1          3        1         1         3   543   17   \n",
       "..     ...       ...        ...      ...       ...       ...   ...  ...   \n",
       "109      5         1         13        1         2         4  1112  353   \n",
       "113      5         1         14        1         1         1   324  431   \n",
       "114      5         1         14        1         1         2   506  431   \n",
       "115      5         1         14        1         1         3   730  431   \n",
       "116      5         1         14        1         1         4   888  431   \n",
       "\n",
       "     width  height  conf         text  \n",
       "4        8      48    95               \n",
       "8       58      18    95               \n",
       "12     158      36    62     Mizui‘xo  \n",
       "13     109      26    83        Bank,  \n",
       "14      65      22    82          Ltd  \n",
       "..     ...     ...   ...          ...  \n",
       "109     77      11    72      ATOHIES  \n",
       "113    155      16    60  H'lihh'FBIF  \n",
       "114    192      16    57  LDDEQMDDEI:  \n",
       "115    126      16    59  LULI-ul‘EH'  \n",
       "116     28      16    69          Ll.  \n",
       "\n",
       "[70 rows x 12 columns]"
      ]
     },
     "execution_count": 97,
     "metadata": {},
     "output_type": "execute_result"
    }
   ],
   "source": [
    "final_df_tesseract"
   ]
  },
  {
   "cell_type": "code",
   "execution_count": 100,
   "id": "418a1582",
   "metadata": {},
   "outputs": [],
   "source": [
    "for x1,y1,x2,y2 in zip(final_df_tesseract[\"left\"],final_df_tesseract[\"top\"],final_df_tesseract[\"width\"],final_df_tesseract[\"height\"]):\n",
    "    #print(x1,y1,x2,y2)\n",
    "    cv2.rectangle(image, (x1, y1), (x1+x2, y1+y2), (255,0,0), 4)"
   ]
  },
  {
   "cell_type": "code",
   "execution_count": 101,
   "id": "39fe9335",
   "metadata": {},
   "outputs": [
    {
     "data": {
      "text/plain": [
       "True"
      ]
     },
     "execution_count": 101,
     "metadata": {},
     "output_type": "execute_result"
    }
   ],
   "source": [
    "cv2.imwrite('Bounding_Box_tssr.png', image)"
   ]
  },
  {
   "cell_type": "code",
   "execution_count": null,
   "id": "b357aad2",
   "metadata": {},
   "outputs": [],
   "source": []
  },
  {
   "cell_type": "code",
   "execution_count": null,
   "id": "06066100",
   "metadata": {},
   "outputs": [],
   "source": []
  },
  {
   "cell_type": "code",
   "execution_count": null,
   "id": "612c8a9c",
   "metadata": {},
   "outputs": [],
   "source": []
  },
  {
   "cell_type": "code",
   "execution_count": 102,
   "id": "05245b44",
   "metadata": {},
   "outputs": [],
   "source": [
    "from craft_hw_ocr import OCR\n",
    "import cv2\n",
    "import numpy as np"
   ]
  },
  {
   "cell_type": "code",
   "execution_count": 103,
   "id": "83614f92",
   "metadata": {},
   "outputs": [],
   "source": [
    "img = OCR.load_image('C:\\Jayesh\\Projects\\Cheque_OCR\\snipped_cheques\\cheque1.PNG')"
   ]
  },
  {
   "cell_type": "code",
   "execution_count": 104,
   "id": "f0d614b0",
   "metadata": {},
   "outputs": [
    {
     "name": "stderr",
     "output_type": "stream",
     "text": [
      "Some weights of VisionEncoderDecoderModel were not initialized from the model checkpoint at C:\\Jayesh\\Projects\\Cheque_OCR\\pretrained_models\\trocr_base_handwritten and are newly initialized: ['encoder.pooler.dense.bias', 'encoder.pooler.dense.weight']\n",
      "You should probably TRAIN this model on a down-stream task to be able to use it for predictions and inference.\n"
     ]
    },
    {
     "ename": "RuntimeError",
     "evalue": "Error(s) in loading state_dict for RefineNet:\n\tMissing key(s) in state_dict: \"last_conv.0.weight\", \"last_conv.0.bias\", \"last_conv.1.weight\", \"last_conv.1.bias\", \"last_conv.1.running_mean\", \"last_conv.1.running_var\", \"last_conv.3.weight\", \"last_conv.3.bias\", \"last_conv.4.weight\", \"last_conv.4.bias\", \"last_conv.4.running_mean\", \"last_conv.4.running_var\", \"last_conv.6.weight\", \"last_conv.6.bias\", \"last_conv.7.weight\", \"last_conv.7.bias\", \"last_conv.7.running_mean\", \"last_conv.7.running_var\", \"aspp1.0.weight\", \"aspp1.0.bias\", \"aspp1.1.weight\", \"aspp1.1.bias\", \"aspp1.1.running_mean\", \"aspp1.1.running_var\", \"aspp1.3.weight\", \"aspp1.3.bias\", \"aspp1.4.weight\", \"aspp1.4.bias\", \"aspp1.4.running_mean\", \"aspp1.4.running_var\", \"aspp1.6.weight\", \"aspp1.6.bias\", \"aspp2.0.weight\", \"aspp2.0.bias\", \"aspp2.1.weight\", \"aspp2.1.bias\", \"aspp2.1.running_mean\", \"aspp2.1.running_var\", \"aspp2.3.weight\", \"aspp2.3.bias\", \"aspp2.4.weight\", \"aspp2.4.bias\", \"aspp2.4.running_mean\", \"aspp2.4.running_var\", \"aspp2.6.weight\", \"aspp2.6.bias\", \"aspp3.0.weight\", \"aspp3.0.bias\", \"aspp3.1.weight\", \"aspp3.1.bias\", \"aspp3.1.running_mean\", \"aspp3.1.running_var\", \"aspp3.3.weight\", \"aspp3.3.bias\", \"aspp3.4.weight\", \"aspp3.4.bias\", \"aspp3.4.running_mean\", \"aspp3.4.running_var\", \"aspp3.6.weight\", \"aspp3.6.bias\", \"aspp4.0.weight\", \"aspp4.0.bias\", \"aspp4.1.weight\", \"aspp4.1.bias\", \"aspp4.1.running_mean\", \"aspp4.1.running_var\", \"aspp4.3.weight\", \"aspp4.3.bias\", \"aspp4.4.weight\", \"aspp4.4.bias\", \"aspp4.4.running_mean\", \"aspp4.4.running_var\", \"aspp4.6.weight\", \"aspp4.6.bias\". \n\tUnexpected key(s) in state_dict: \"basenet.slice1.0.weight\", \"basenet.slice1.0.bias\", \"basenet.slice1.1.weight\", \"basenet.slice1.1.bias\", \"basenet.slice1.1.running_mean\", \"basenet.slice1.1.running_var\", \"basenet.slice1.1.num_batches_tracked\", \"basenet.slice1.3.weight\", \"basenet.slice1.3.bias\", \"basenet.slice1.4.weight\", \"basenet.slice1.4.bias\", \"basenet.slice1.4.running_mean\", \"basenet.slice1.4.running_var\", \"basenet.slice1.4.num_batches_tracked\", \"basenet.slice1.7.weight\", \"basenet.slice1.7.bias\", \"basenet.slice1.8.weight\", \"basenet.slice1.8.bias\", \"basenet.slice1.8.running_mean\", \"basenet.slice1.8.running_var\", \"basenet.slice1.8.num_batches_tracked\", \"basenet.slice1.10.weight\", \"basenet.slice1.10.bias\", \"basenet.slice1.11.weight\", \"basenet.slice1.11.bias\", \"basenet.slice1.11.running_mean\", \"basenet.slice1.11.running_var\", \"basenet.slice1.11.num_batches_tracked\", \"basenet.slice2.14.weight\", \"basenet.slice2.14.bias\", \"basenet.slice2.15.weight\", \"basenet.slice2.15.bias\", \"basenet.slice2.15.running_mean\", \"basenet.slice2.15.running_var\", \"basenet.slice2.15.num_batches_tracked\", \"basenet.slice2.17.weight\", \"basenet.slice2.17.bias\", \"basenet.slice2.18.weight\", \"basenet.slice2.18.bias\", \"basenet.slice2.18.running_mean\", \"basenet.slice2.18.running_var\", \"basenet.slice2.18.num_batches_tracked\", \"basenet.slice3.20.weight\", \"basenet.slice3.20.bias\", \"basenet.slice3.21.weight\", \"basenet.slice3.21.bias\", \"basenet.slice3.21.running_mean\", \"basenet.slice3.21.running_var\", \"basenet.slice3.21.num_batches_tracked\", \"basenet.slice3.24.weight\", \"basenet.slice3.24.bias\", \"basenet.slice3.25.weight\", \"basenet.slice3.25.bias\", \"basenet.slice3.25.running_mean\", \"basenet.slice3.25.running_var\", \"basenet.slice3.25.num_batches_tracked\", \"basenet.slice3.27.weight\", \"basenet.slice3.27.bias\", \"basenet.slice3.28.weight\", \"basenet.slice3.28.bias\", \"basenet.slice3.28.running_mean\", \"basenet.slice3.28.running_var\", \"basenet.slice3.28.num_batches_tracked\", \"basenet.slice4.30.weight\", \"basenet.slice4.30.bias\", \"basenet.slice4.31.weight\", \"basenet.slice4.31.bias\", \"basenet.slice4.31.running_mean\", \"basenet.slice4.31.running_var\", \"basenet.slice4.31.num_batches_tracked\", \"basenet.slice4.34.weight\", \"basenet.slice4.34.bias\", \"basenet.slice4.35.weight\", \"basenet.slice4.35.bias\", \"basenet.slice4.35.running_mean\", \"basenet.slice4.35.running_var\", \"basenet.slice4.35.num_batches_tracked\", \"basenet.slice4.37.weight\", \"basenet.slice4.37.bias\", \"basenet.slice4.38.weight\", \"basenet.slice4.38.bias\", \"basenet.slice4.38.running_mean\", \"basenet.slice4.38.running_var\", \"basenet.slice4.38.num_batches_tracked\", \"basenet.slice5.1.weight\", \"basenet.slice5.1.bias\", \"basenet.slice5.2.weight\", \"basenet.slice5.2.bias\", \"upconv1.conv.0.weight\", \"upconv1.conv.0.bias\", \"upconv1.conv.1.weight\", \"upconv1.conv.1.bias\", \"upconv1.conv.1.running_mean\", \"upconv1.conv.1.running_var\", \"upconv1.conv.1.num_batches_tracked\", \"upconv1.conv.3.weight\", \"upconv1.conv.3.bias\", \"upconv1.conv.4.weight\", \"upconv1.conv.4.bias\", \"upconv1.conv.4.running_mean\", \"upconv1.conv.4.running_var\", \"upconv1.conv.4.num_batches_tracked\", \"upconv2.conv.0.weight\", \"upconv2.conv.0.bias\", \"upconv2.conv.1.weight\", \"upconv2.conv.1.bias\", \"upconv2.conv.1.running_mean\", \"upconv2.conv.1.running_var\", \"upconv2.conv.1.num_batches_tracked\", \"upconv2.conv.3.weight\", \"upconv2.conv.3.bias\", \"upconv2.conv.4.weight\", \"upconv2.conv.4.bias\", \"upconv2.conv.4.running_mean\", \"upconv2.conv.4.running_var\", \"upconv2.conv.4.num_batches_tracked\", \"upconv3.conv.0.weight\", \"upconv3.conv.0.bias\", \"upconv3.conv.1.weight\", \"upconv3.conv.1.bias\", \"upconv3.conv.1.running_mean\", \"upconv3.conv.1.running_var\", \"upconv3.conv.1.num_batches_tracked\", \"upconv3.conv.3.weight\", \"upconv3.conv.3.bias\", \"upconv3.conv.4.weight\", \"upconv3.conv.4.bias\", \"upconv3.conv.4.running_mean\", \"upconv3.conv.4.running_var\", \"upconv3.conv.4.num_batches_tracked\", \"upconv4.conv.0.weight\", \"upconv4.conv.0.bias\", \"upconv4.conv.1.weight\", \"upconv4.conv.1.bias\", \"upconv4.conv.1.running_mean\", \"upconv4.conv.1.running_var\", \"upconv4.conv.1.num_batches_tracked\", \"upconv4.conv.3.weight\", \"upconv4.conv.3.bias\", \"upconv4.conv.4.weight\", \"upconv4.conv.4.bias\", \"upconv4.conv.4.running_mean\", \"upconv4.conv.4.running_var\", \"upconv4.conv.4.num_batches_tracked\", \"conv_cls.0.weight\", \"conv_cls.0.bias\", \"conv_cls.2.weight\", \"conv_cls.2.bias\", \"conv_cls.4.weight\", \"conv_cls.4.bias\", \"conv_cls.6.weight\", \"conv_cls.6.bias\", \"conv_cls.8.weight\", \"conv_cls.8.bias\". ",
     "output_type": "error",
     "traceback": [
      "\u001b[1;31m---------------------------------------------------------------------------\u001b[0m",
      "\u001b[1;31mRuntimeError\u001b[0m                              Traceback (most recent call last)",
      "Cell \u001b[1;32mIn [104], line 1\u001b[0m\n\u001b[1;32m----> 1\u001b[0m ocr_models \u001b[38;5;241m=\u001b[39m \u001b[43mOCR\u001b[49m\u001b[38;5;241;43m.\u001b[39;49m\u001b[43mload_models\u001b[49m\u001b[43m(\u001b[49m\u001b[43m)\u001b[49m\n",
      "File \u001b[1;32m~\\AppData\\Roaming\\Python\\Python39\\site-packages\\craft_hw_ocr\\OCR.py:46\u001b[0m, in \u001b[0;36mload_models\u001b[1;34m()\u001b[0m\n\u001b[0;32m     44\u001b[0m processor \u001b[38;5;241m=\u001b[39m TrOCRProcessor\u001b[38;5;241m.\u001b[39mfrom_pretrained(\u001b[38;5;124mr\u001b[39m\u001b[38;5;124m\"\u001b[39m\u001b[38;5;124mC:\u001b[39m\u001b[38;5;124m\\\u001b[39m\u001b[38;5;124mJayesh\u001b[39m\u001b[38;5;124m\\\u001b[39m\u001b[38;5;124mProjects\u001b[39m\u001b[38;5;124m\\\u001b[39m\u001b[38;5;124mCheque_OCR\u001b[39m\u001b[38;5;124m\\\u001b[39m\u001b[38;5;124mpretrained_models\u001b[39m\u001b[38;5;124m\\\u001b[39m\u001b[38;5;124mtrocr_base_handwritten\u001b[39m\u001b[38;5;124m\"\u001b[39m)\n\u001b[0;32m     45\u001b[0m model \u001b[38;5;241m=\u001b[39m VisionEncoderDecoderModel\u001b[38;5;241m.\u001b[39mfrom_pretrained(\u001b[38;5;124mr\u001b[39m\u001b[38;5;124m\"\u001b[39m\u001b[38;5;124mC:\u001b[39m\u001b[38;5;124m\\\u001b[39m\u001b[38;5;124mJayesh\u001b[39m\u001b[38;5;124m\\\u001b[39m\u001b[38;5;124mProjects\u001b[39m\u001b[38;5;124m\\\u001b[39m\u001b[38;5;124mCheque_OCR\u001b[39m\u001b[38;5;124m\\\u001b[39m\u001b[38;5;124mpretrained_models\u001b[39m\u001b[38;5;124m\\\u001b[39m\u001b[38;5;124mtrocr_base_handwritten\u001b[39m\u001b[38;5;124m\"\u001b[39m)\n\u001b[1;32m---> 46\u001b[0m craft \u001b[38;5;241m=\u001b[39m \u001b[43mCraft\u001b[49m\u001b[43m(\u001b[49m\u001b[43moutput_dir\u001b[49m\u001b[38;5;241;43m=\u001b[39;49m\u001b[38;5;28;43;01mNone\u001b[39;49;00m\u001b[43m,\u001b[49m\u001b[43m \u001b[49m\n\u001b[0;32m     47\u001b[0m \u001b[43m              \u001b[49m\u001b[43mcrop_type\u001b[49m\u001b[38;5;241;43m=\u001b[39;49m\u001b[38;5;124;43m\"\u001b[39;49m\u001b[38;5;124;43mpoly\u001b[39;49m\u001b[38;5;124;43m\"\u001b[39;49m\u001b[43m,\u001b[49m\n\u001b[0;32m     48\u001b[0m \u001b[43m              \u001b[49m\u001b[43mexport_extra\u001b[49m\u001b[38;5;241;43m=\u001b[39;49m\u001b[38;5;28;43;01mFalse\u001b[39;49;00m\u001b[43m,\u001b[49m\n\u001b[0;32m     49\u001b[0m \u001b[43m              \u001b[49m\u001b[43mlink_threshold\u001b[49m\u001b[38;5;241;43m=\u001b[39;49m\u001b[38;5;241;43m0.1\u001b[39;49m\u001b[43m,\u001b[49m\n\u001b[0;32m     50\u001b[0m \u001b[43m              \u001b[49m\u001b[43mtext_threshold\u001b[49m\u001b[38;5;241;43m=\u001b[39;49m\u001b[38;5;241;43m0.3\u001b[39;49m\u001b[43m,\u001b[49m\n\u001b[0;32m     51\u001b[0m \u001b[43m              \u001b[49m\u001b[43mcuda\u001b[49m\u001b[38;5;241;43m=\u001b[39;49m\u001b[43mtorch\u001b[49m\u001b[38;5;241;43m.\u001b[39;49m\u001b[43mcuda\u001b[49m\u001b[38;5;241;43m.\u001b[39;49m\u001b[43mis_available\u001b[49m\u001b[43m(\u001b[49m\u001b[43m)\u001b[49m\u001b[43m)\u001b[49m\n\u001b[0;32m     53\u001b[0m \u001b[38;5;28;01mreturn\u001b[39;00m processor, model, craft\n",
      "File \u001b[1;32m~\\AppData\\Roaming\\Python\\Python39\\site-packages\\craft_text_detector\\__init__.py:81\u001b[0m, in \u001b[0;36mCraft.__init__\u001b[1;34m(self, output_dir, rectify, export_extra, text_threshold, link_threshold, low_text, cuda, long_size, refiner, crop_type, weight_path_craft_net, weight_path_refine_net)\u001b[0m\n\u001b[0;32m     79\u001b[0m \u001b[38;5;66;03m# load refinernet if required\u001b[39;00m\n\u001b[0;32m     80\u001b[0m \u001b[38;5;28;01mif\u001b[39;00m refiner:\n\u001b[1;32m---> 81\u001b[0m     \u001b[38;5;28;43mself\u001b[39;49m\u001b[38;5;241;43m.\u001b[39;49m\u001b[43mload_refinenet_model\u001b[49m\u001b[43m(\u001b[49m\u001b[43mweight_path_refine_net\u001b[49m\u001b[43m)\u001b[49m\n",
      "File \u001b[1;32m~\\AppData\\Roaming\\Python\\Python39\\site-packages\\craft_text_detector\\__init__.py:93\u001b[0m, in \u001b[0;36mCraft.load_refinenet_model\u001b[1;34m(self, weight_path)\u001b[0m\n\u001b[0;32m     89\u001b[0m \u001b[38;5;28;01mdef\u001b[39;00m \u001b[38;5;21mload_refinenet_model\u001b[39m(\u001b[38;5;28mself\u001b[39m, weight_path: Optional[\u001b[38;5;28mstr\u001b[39m] \u001b[38;5;241m=\u001b[39m \u001b[38;5;28;01mNone\u001b[39;00m):\n\u001b[0;32m     90\u001b[0m     \u001b[38;5;124;03m\"\"\"\u001b[39;00m\n\u001b[0;32m     91\u001b[0m \u001b[38;5;124;03m    Loads refinenet model\u001b[39;00m\n\u001b[0;32m     92\u001b[0m \u001b[38;5;124;03m    \"\"\"\u001b[39;00m\n\u001b[1;32m---> 93\u001b[0m     \u001b[38;5;28mself\u001b[39m\u001b[38;5;241m.\u001b[39mrefine_net \u001b[38;5;241m=\u001b[39m \u001b[43mload_refinenet_model\u001b[49m\u001b[43m(\u001b[49m\u001b[38;5;28;43mself\u001b[39;49m\u001b[38;5;241;43m.\u001b[39;49m\u001b[43mcuda\u001b[49m\u001b[43m,\u001b[49m\u001b[43m \u001b[49m\u001b[43mweight_path\u001b[49m\u001b[38;5;241;43m=\u001b[39;49m\u001b[43mweight_path\u001b[49m\u001b[43m)\u001b[49m\n",
      "File \u001b[1;32m~\\AppData\\Roaming\\Python\\Python39\\site-packages\\craft_text_detector\\craft_utils.py:119\u001b[0m, in \u001b[0;36mload_refinenet_model\u001b[1;34m(cuda, weight_path)\u001b[0m\n\u001b[0;32m    117\u001b[0m     torch_utils\u001b[38;5;241m.\u001b[39mcudnn_benchmark \u001b[38;5;241m=\u001b[39m \u001b[38;5;28;01mFalse\u001b[39;00m\n\u001b[0;32m    118\u001b[0m \u001b[38;5;28;01melse\u001b[39;00m:\n\u001b[1;32m--> 119\u001b[0m     \u001b[43mrefine_net\u001b[49m\u001b[38;5;241;43m.\u001b[39;49m\u001b[43mload_state_dict\u001b[49m\u001b[43m(\u001b[49m\n\u001b[0;32m    120\u001b[0m \u001b[43m        \u001b[49m\u001b[43mcopyStateDict\u001b[49m\u001b[43m(\u001b[49m\u001b[43mtorch_utils\u001b[49m\u001b[38;5;241;43m.\u001b[39;49m\u001b[43mload\u001b[49m\u001b[43m(\u001b[49m\u001b[43mweight_path\u001b[49m\u001b[43m,\u001b[49m\u001b[43m \u001b[49m\u001b[43mmap_location\u001b[49m\u001b[38;5;241;43m=\u001b[39;49m\u001b[38;5;124;43m\"\u001b[39;49m\u001b[38;5;124;43mcpu\u001b[39;49m\u001b[38;5;124;43m\"\u001b[39;49m\u001b[43m)\u001b[49m\u001b[43m)\u001b[49m\n\u001b[0;32m    121\u001b[0m \u001b[43m    \u001b[49m\u001b[43m)\u001b[49m\n\u001b[0;32m    122\u001b[0m refine_net\u001b[38;5;241m.\u001b[39meval()\n\u001b[0;32m    123\u001b[0m \u001b[38;5;28;01mreturn\u001b[39;00m refine_net\n",
      "File \u001b[1;32m~\\AppData\\Roaming\\Python\\Python39\\site-packages\\torch\\nn\\modules\\module.py:1604\u001b[0m, in \u001b[0;36mModule.load_state_dict\u001b[1;34m(self, state_dict, strict)\u001b[0m\n\u001b[0;32m   1599\u001b[0m         error_msgs\u001b[38;5;241m.\u001b[39minsert(\n\u001b[0;32m   1600\u001b[0m             \u001b[38;5;241m0\u001b[39m, \u001b[38;5;124m'\u001b[39m\u001b[38;5;124mMissing key(s) in state_dict: \u001b[39m\u001b[38;5;132;01m{}\u001b[39;00m\u001b[38;5;124m. \u001b[39m\u001b[38;5;124m'\u001b[39m\u001b[38;5;241m.\u001b[39mformat(\n\u001b[0;32m   1601\u001b[0m                 \u001b[38;5;124m'\u001b[39m\u001b[38;5;124m, \u001b[39m\u001b[38;5;124m'\u001b[39m\u001b[38;5;241m.\u001b[39mjoin(\u001b[38;5;124m'\u001b[39m\u001b[38;5;124m\"\u001b[39m\u001b[38;5;132;01m{}\u001b[39;00m\u001b[38;5;124m\"\u001b[39m\u001b[38;5;124m'\u001b[39m\u001b[38;5;241m.\u001b[39mformat(k) \u001b[38;5;28;01mfor\u001b[39;00m k \u001b[38;5;129;01min\u001b[39;00m missing_keys)))\n\u001b[0;32m   1603\u001b[0m \u001b[38;5;28;01mif\u001b[39;00m \u001b[38;5;28mlen\u001b[39m(error_msgs) \u001b[38;5;241m>\u001b[39m \u001b[38;5;241m0\u001b[39m:\n\u001b[1;32m-> 1604\u001b[0m     \u001b[38;5;28;01mraise\u001b[39;00m \u001b[38;5;167;01mRuntimeError\u001b[39;00m(\u001b[38;5;124m'\u001b[39m\u001b[38;5;124mError(s) in loading state_dict for \u001b[39m\u001b[38;5;132;01m{}\u001b[39;00m\u001b[38;5;124m:\u001b[39m\u001b[38;5;130;01m\\n\u001b[39;00m\u001b[38;5;130;01m\\t\u001b[39;00m\u001b[38;5;132;01m{}\u001b[39;00m\u001b[38;5;124m'\u001b[39m\u001b[38;5;241m.\u001b[39mformat(\n\u001b[0;32m   1605\u001b[0m                        \u001b[38;5;28mself\u001b[39m\u001b[38;5;241m.\u001b[39m\u001b[38;5;18m__class__\u001b[39m\u001b[38;5;241m.\u001b[39m\u001b[38;5;18m__name__\u001b[39m, \u001b[38;5;124m\"\u001b[39m\u001b[38;5;130;01m\\n\u001b[39;00m\u001b[38;5;130;01m\\t\u001b[39;00m\u001b[38;5;124m\"\u001b[39m\u001b[38;5;241m.\u001b[39mjoin(error_msgs)))\n\u001b[0;32m   1606\u001b[0m \u001b[38;5;28;01mreturn\u001b[39;00m _IncompatibleKeys(missing_keys, unexpected_keys)\n",
      "\u001b[1;31mRuntimeError\u001b[0m: Error(s) in loading state_dict for RefineNet:\n\tMissing key(s) in state_dict: \"last_conv.0.weight\", \"last_conv.0.bias\", \"last_conv.1.weight\", \"last_conv.1.bias\", \"last_conv.1.running_mean\", \"last_conv.1.running_var\", \"last_conv.3.weight\", \"last_conv.3.bias\", \"last_conv.4.weight\", \"last_conv.4.bias\", \"last_conv.4.running_mean\", \"last_conv.4.running_var\", \"last_conv.6.weight\", \"last_conv.6.bias\", \"last_conv.7.weight\", \"last_conv.7.bias\", \"last_conv.7.running_mean\", \"last_conv.7.running_var\", \"aspp1.0.weight\", \"aspp1.0.bias\", \"aspp1.1.weight\", \"aspp1.1.bias\", \"aspp1.1.running_mean\", \"aspp1.1.running_var\", \"aspp1.3.weight\", \"aspp1.3.bias\", \"aspp1.4.weight\", \"aspp1.4.bias\", \"aspp1.4.running_mean\", \"aspp1.4.running_var\", \"aspp1.6.weight\", \"aspp1.6.bias\", \"aspp2.0.weight\", \"aspp2.0.bias\", \"aspp2.1.weight\", \"aspp2.1.bias\", \"aspp2.1.running_mean\", \"aspp2.1.running_var\", \"aspp2.3.weight\", \"aspp2.3.bias\", \"aspp2.4.weight\", \"aspp2.4.bias\", \"aspp2.4.running_mean\", \"aspp2.4.running_var\", \"aspp2.6.weight\", \"aspp2.6.bias\", \"aspp3.0.weight\", \"aspp3.0.bias\", \"aspp3.1.weight\", \"aspp3.1.bias\", \"aspp3.1.running_mean\", \"aspp3.1.running_var\", \"aspp3.3.weight\", \"aspp3.3.bias\", \"aspp3.4.weight\", \"aspp3.4.bias\", \"aspp3.4.running_mean\", \"aspp3.4.running_var\", \"aspp3.6.weight\", \"aspp3.6.bias\", \"aspp4.0.weight\", \"aspp4.0.bias\", \"aspp4.1.weight\", \"aspp4.1.bias\", \"aspp4.1.running_mean\", \"aspp4.1.running_var\", \"aspp4.3.weight\", \"aspp4.3.bias\", \"aspp4.4.weight\", \"aspp4.4.bias\", \"aspp4.4.running_mean\", \"aspp4.4.running_var\", \"aspp4.6.weight\", \"aspp4.6.bias\". \n\tUnexpected key(s) in state_dict: \"basenet.slice1.0.weight\", \"basenet.slice1.0.bias\", \"basenet.slice1.1.weight\", \"basenet.slice1.1.bias\", \"basenet.slice1.1.running_mean\", \"basenet.slice1.1.running_var\", \"basenet.slice1.1.num_batches_tracked\", \"basenet.slice1.3.weight\", \"basenet.slice1.3.bias\", \"basenet.slice1.4.weight\", \"basenet.slice1.4.bias\", \"basenet.slice1.4.running_mean\", \"basenet.slice1.4.running_var\", \"basenet.slice1.4.num_batches_tracked\", \"basenet.slice1.7.weight\", \"basenet.slice1.7.bias\", \"basenet.slice1.8.weight\", \"basenet.slice1.8.bias\", \"basenet.slice1.8.running_mean\", \"basenet.slice1.8.running_var\", \"basenet.slice1.8.num_batches_tracked\", \"basenet.slice1.10.weight\", \"basenet.slice1.10.bias\", \"basenet.slice1.11.weight\", \"basenet.slice1.11.bias\", \"basenet.slice1.11.running_mean\", \"basenet.slice1.11.running_var\", \"basenet.slice1.11.num_batches_tracked\", \"basenet.slice2.14.weight\", \"basenet.slice2.14.bias\", \"basenet.slice2.15.weight\", \"basenet.slice2.15.bias\", \"basenet.slice2.15.running_mean\", \"basenet.slice2.15.running_var\", \"basenet.slice2.15.num_batches_tracked\", \"basenet.slice2.17.weight\", \"basenet.slice2.17.bias\", \"basenet.slice2.18.weight\", \"basenet.slice2.18.bias\", \"basenet.slice2.18.running_mean\", \"basenet.slice2.18.running_var\", \"basenet.slice2.18.num_batches_tracked\", \"basenet.slice3.20.weight\", \"basenet.slice3.20.bias\", \"basenet.slice3.21.weight\", \"basenet.slice3.21.bias\", \"basenet.slice3.21.running_mean\", \"basenet.slice3.21.running_var\", \"basenet.slice3.21.num_batches_tracked\", \"basenet.slice3.24.weight\", \"basenet.slice3.24.bias\", \"basenet.slice3.25.weight\", \"basenet.slice3.25.bias\", \"basenet.slice3.25.running_mean\", \"basenet.slice3.25.running_var\", \"basenet.slice3.25.num_batches_tracked\", \"basenet.slice3.27.weight\", \"basenet.slice3.27.bias\", \"basenet.slice3.28.weight\", \"basenet.slice3.28.bias\", \"basenet.slice3.28.running_mean\", \"basenet.slice3.28.running_var\", \"basenet.slice3.28.num_batches_tracked\", \"basenet.slice4.30.weight\", \"basenet.slice4.30.bias\", \"basenet.slice4.31.weight\", \"basenet.slice4.31.bias\", \"basenet.slice4.31.running_mean\", \"basenet.slice4.31.running_var\", \"basenet.slice4.31.num_batches_tracked\", \"basenet.slice4.34.weight\", \"basenet.slice4.34.bias\", \"basenet.slice4.35.weight\", \"basenet.slice4.35.bias\", \"basenet.slice4.35.running_mean\", \"basenet.slice4.35.running_var\", \"basenet.slice4.35.num_batches_tracked\", \"basenet.slice4.37.weight\", \"basenet.slice4.37.bias\", \"basenet.slice4.38.weight\", \"basenet.slice4.38.bias\", \"basenet.slice4.38.running_mean\", \"basenet.slice4.38.running_var\", \"basenet.slice4.38.num_batches_tracked\", \"basenet.slice5.1.weight\", \"basenet.slice5.1.bias\", \"basenet.slice5.2.weight\", \"basenet.slice5.2.bias\", \"upconv1.conv.0.weight\", \"upconv1.conv.0.bias\", \"upconv1.conv.1.weight\", \"upconv1.conv.1.bias\", \"upconv1.conv.1.running_mean\", \"upconv1.conv.1.running_var\", \"upconv1.conv.1.num_batches_tracked\", \"upconv1.conv.3.weight\", \"upconv1.conv.3.bias\", \"upconv1.conv.4.weight\", \"upconv1.conv.4.bias\", \"upconv1.conv.4.running_mean\", \"upconv1.conv.4.running_var\", \"upconv1.conv.4.num_batches_tracked\", \"upconv2.conv.0.weight\", \"upconv2.conv.0.bias\", \"upconv2.conv.1.weight\", \"upconv2.conv.1.bias\", \"upconv2.conv.1.running_mean\", \"upconv2.conv.1.running_var\", \"upconv2.conv.1.num_batches_tracked\", \"upconv2.conv.3.weight\", \"upconv2.conv.3.bias\", \"upconv2.conv.4.weight\", \"upconv2.conv.4.bias\", \"upconv2.conv.4.running_mean\", \"upconv2.conv.4.running_var\", \"upconv2.conv.4.num_batches_tracked\", \"upconv3.conv.0.weight\", \"upconv3.conv.0.bias\", \"upconv3.conv.1.weight\", \"upconv3.conv.1.bias\", \"upconv3.conv.1.running_mean\", \"upconv3.conv.1.running_var\", \"upconv3.conv.1.num_batches_tracked\", \"upconv3.conv.3.weight\", \"upconv3.conv.3.bias\", \"upconv3.conv.4.weight\", \"upconv3.conv.4.bias\", \"upconv3.conv.4.running_mean\", \"upconv3.conv.4.running_var\", \"upconv3.conv.4.num_batches_tracked\", \"upconv4.conv.0.weight\", \"upconv4.conv.0.bias\", \"upconv4.conv.1.weight\", \"upconv4.conv.1.bias\", \"upconv4.conv.1.running_mean\", \"upconv4.conv.1.running_var\", \"upconv4.conv.1.num_batches_tracked\", \"upconv4.conv.3.weight\", \"upconv4.conv.3.bias\", \"upconv4.conv.4.weight\", \"upconv4.conv.4.bias\", \"upconv4.conv.4.running_mean\", \"upconv4.conv.4.running_var\", \"upconv4.conv.4.num_batches_tracked\", \"conv_cls.0.weight\", \"conv_cls.0.bias\", \"conv_cls.2.weight\", \"conv_cls.2.bias\", \"conv_cls.4.weight\", \"conv_cls.4.bias\", \"conv_cls.6.weight\", \"conv_cls.6.bias\", \"conv_cls.8.weight\", \"conv_cls.8.bias\". "
     ]
    }
   ],
   "source": [
    "ocr_models = OCR.load_models()"
   ]
  },
  {
   "cell_type": "code",
   "execution_count": null,
   "id": "c38517f6",
   "metadata": {},
   "outputs": [],
   "source": []
  },
  {
   "cell_type": "code",
   "execution_count": null,
   "id": "0d911eb0",
   "metadata": {},
   "outputs": [],
   "source": []
  },
  {
   "cell_type": "code",
   "execution_count": null,
   "id": "eda4fb52",
   "metadata": {},
   "outputs": [],
   "source": []
  },
  {
   "cell_type": "code",
   "execution_count": null,
   "id": "d82b8d27",
   "metadata": {},
   "outputs": [],
   "source": []
  },
  {
   "cell_type": "code",
   "execution_count": null,
   "id": "7d0bd7f0",
   "metadata": {},
   "outputs": [],
   "source": []
  },
  {
   "cell_type": "code",
   "execution_count": null,
   "id": "0180143b",
   "metadata": {},
   "outputs": [],
   "source": []
  },
  {
   "cell_type": "code",
   "execution_count": null,
   "id": "aa878152",
   "metadata": {},
   "outputs": [],
   "source": []
  },
  {
   "cell_type": "code",
   "execution_count": null,
   "id": "24e166a7",
   "metadata": {},
   "outputs": [],
   "source": []
  }
 ],
 "metadata": {
  "kernelspec": {
   "display_name": "Python 3 (ipykernel)",
   "language": "python",
   "name": "python3"
  },
  "language_info": {
   "codemirror_mode": {
    "name": "ipython",
    "version": 3
   },
   "file_extension": ".py",
   "mimetype": "text/x-python",
   "name": "python",
   "nbconvert_exporter": "python",
   "pygments_lexer": "ipython3",
   "version": "3.9.0"
  }
 },
 "nbformat": 4,
 "nbformat_minor": 5
}
